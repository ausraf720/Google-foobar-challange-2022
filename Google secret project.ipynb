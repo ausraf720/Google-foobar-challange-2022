{
 "cells": [
  {
   "cell_type": "code",
   "execution_count": 48,
   "id": "7c090247",
   "metadata": {},
   "outputs": [
    {
     "name": "stdout",
     "output_type": "stream",
     "text": [
      "533220\n"
     ]
    }
   ],
   "source": [
    "## PART 2\n",
    "\n",
    "#base converter\n",
    "\n",
    "def conv_to_10(num, base):\n",
    "    num10 = 0\n",
    "    for i in range(len(num)):\n",
    "        power = len(num) - i - 1\n",
    "        num10 += int(num[i])*(base**power)\n",
    "    return num10\n",
    "\n",
    "\n",
    "def conv_back(num10, base):\n",
    "    if num10 == 0:\n",
    "        return \"0\"\n",
    "    else:\n",
    "        num_digit = []\n",
    "        while num10 > 0:\n",
    "            num_digit.append(num10 % base)\n",
    "            num10 = num10 // base\n",
    "        \n",
    "        num_digit = num_digit[::-1]\n",
    "        return \"\".join(str(j) for j in num_digit)\n",
    "  \n",
    "\n",
    "def zero_filler(num, k):\n",
    "    if len(num) == k:\n",
    "        return num\n",
    "    else:\n",
    "        num = num[::-1]\n",
    "        for i in range(k - len(num)):\n",
    "            num = num + \"0\"\n",
    "        return num[::-1]\n",
    "    \n",
    "    \n",
    "ID = str(230253)\n",
    "x = \"\".join(sorted(ID))\n",
    "y = \"\".join(sorted(ID)[::-1])\n",
    "print(y)"
   ]
  },
  {
   "cell_type": "code",
   "execution_count": 16,
   "id": "7ea8b198",
   "metadata": {},
   "outputs": [],
   "source": [
    "## PART 1\n",
    "\n",
    "def solution(area):\n",
    "    size = area\n",
    "    squares = [0]\n",
    "    i = 0\n",
    "\n",
    "    while squares[i] <= size:\n",
    "        i += 1\n",
    "        squares.append(i*i)\n",
    "\n",
    "    squares.remove(0)\n",
    "    squares = squares[0:-1]\n",
    "\n",
    "    final_squares = []\n",
    "    final_size = size\n",
    "\n",
    "    j = len(squares)-1\n",
    "    while final_size != 0:\n",
    "        if final_size - squares[j] >= 0:\n",
    "            final_size -= squares[j]\n",
    "            final_squares.append(squares[j])\n",
    "        else:\n",
    "            j -= 1\n",
    "\n",
    "\n",
    "    return final_squares"
   ]
  },
  {
   "cell_type": "code",
   "execution_count": 26,
   "id": "079423f1",
   "metadata": {},
   "outputs": [
    {
     "data": {
      "text/plain": [
       "0"
      ]
     },
     "execution_count": 26,
     "metadata": {},
     "output_type": "execute_result"
    }
   ],
   "source": [
    "64 % 2"
   ]
  },
  {
   "cell_type": "code",
   "execution_count": 37,
   "id": "19978fa3",
   "metadata": {},
   "outputs": [
    {
     "data": {
      "text/plain": [
       "'893'"
      ]
     },
     "execution_count": 37,
     "metadata": {},
     "output_type": "execute_result"
    }
   ],
   "source": [
    "\"398\"[::-1]"
   ]
  },
  {
   "cell_type": "code",
   "execution_count": 38,
   "id": "880b3809",
   "metadata": {},
   "outputs": [
    {
     "name": "stdout",
     "output_type": "stream",
     "text": [
      "John#Peter#Vicky\n"
     ]
    }
   ],
   "source": []
  },
  {
   "cell_type": "code",
   "execution_count": null,
   "id": "3453a5b2",
   "metadata": {},
   "outputs": [],
   "source": []
  }
 ],
 "metadata": {
  "kernelspec": {
   "display_name": "Python 3 (ipykernel)",
   "language": "python",
   "name": "python3"
  },
  "language_info": {
   "codemirror_mode": {
    "name": "ipython",
    "version": 3
   },
   "file_extension": ".py",
   "mimetype": "text/x-python",
   "name": "python",
   "nbconvert_exporter": "python",
   "pygments_lexer": "ipython3",
   "version": "3.9.12"
  }
 },
 "nbformat": 4,
 "nbformat_minor": 5
}
